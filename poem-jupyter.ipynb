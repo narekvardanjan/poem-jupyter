{
 "cells": [
  {
   "cell_type": "markdown",
   "metadata": {},
   "source": [
    "# Seminární práce"
   ]
  },
  {
   "cell_type": "code",
   "execution_count": 1,
   "metadata": {
    "collapsed": true
   },
   "outputs": [],
   "source": [
    "import pandas as pd\n",
    "\n",
    "pd.set_option('display.notebook_repr_html', True)\n",
    "\n",
    "def _repr_latex_(self):\n",
    "    return self.to_latex()\n",
    "\n",
    "pd.DataFrame._repr_latex_ = _repr_latex_  # monkey patch pandas DataFrame"
   ]
  },
  {
   "cell_type": "markdown",
   "metadata": {},
   "source": [
    "## Zadání\n",
    "Vyberte libovolnou báseň, která má minimálně 3 sloky a 4 verše. Úkolem je zjistit četnost slov stejného počtu písmen a udělat nad tímto souborem dat jednoduchou statistickou analýzu se všemi výpočty a vysvětlením.\n",
    "\n",
    "* Práce bude obsahovat:\n",
    "    * tabulku s četností a rel. četností\n",
    "    * aritmetický průměr\n",
    "    * modus\n",
    "    * medián\n",
    "    * rozptyl směrodatné odchylky\n",
    "    * variační koeficient \n",
    "    * kruhový a jeden jiný diagram"
   ]
  },
  {
   "cell_type": "markdown",
   "metadata": {},
   "source": [
    "## The Obligation to Be Happy"
   ]
  },
  {
   "cell_type": "markdown",
   "metadata": {},
   "source": [
    "$$It is more onerous  \n",
    "than the rites of beauty  \n",
    "or housework, harder than love.  \n",
    "But you expect it of me casually,  \n",
    "the way you expect the sun  \n",
    "to come up, not in spite of rain  \n",
    "or clouds but because of them. $$\n",
    "\n",
    "And so I smile, as if my own fidelity  \n",
    "to sadness were a hidden vice—  \n",
    "that downward tug on my mouth,  \n",
    "my old suspicion that health  \n",
    "and love are brief irrelevancies,  \n",
    "no more than laughter in the warm dark  \n",
    "strangled at dawn.\n",
    "\n",
    "Happiness. I try to hoist it  \n",
    "on my narrow shoulders again—  \n",
    "a knapsack heavy with gold coins.  \n",
    "I stumble around the house,    \n",
    "bump into things.  \n",
    "Only Midas himself  \n",
    "would understand."
   ]
  },
  {
   "cell_type": "markdown",
   "metadata": {},
   "source": [
    "## Soubor dat formou tabulky"
   ]
  },
  {
   "cell_type": "code",
   "execution_count": 2,
   "metadata": {
    "collapsed": false
   },
   "outputs": [
    {
     "data": {
      "text/html": [
       "<div>\n",
       "<table border=\"1\" class=\"dataframe\">\n",
       "  <thead>\n",
       "    <tr style=\"text-align: right;\">\n",
       "      <th>Počet písmen ve slově</th>\n",
       "      <th>Četnost</th>\n",
       "      <th>Relativní četnost</th>\n",
       "    </tr>\n",
       "  </thead>\n",
       "  <tbody>\n",
       "    <tr>\n",
       "      <th>1</th>\n",
       "      <td>5</td>\n",
       "      <td>0.044</td>\n",
       "    </tr>\n",
       "    <tr>\n",
       "      <th>2</th>\n",
       "      <td>28</td>\n",
       "      <td>0.248</td>\n",
       "    </tr>\n",
       "    <tr>\n",
       "      <th>3</th>\n",
       "      <td>19</td>\n",
       "      <td>0.168</td>\n",
       "    </tr>\n",
       "    <tr>\n",
       "      <th>4</th>\n",
       "      <td>21</td>\n",
       "      <td>0.186</td>\n",
       "    </tr>\n",
       "    <tr>\n",
       "      <th>5</th>\n",
       "      <td>12</td>\n",
       "      <td>0.106</td>\n",
       "    </tr>\n",
       "    <tr>\n",
       "      <th>6</th>\n",
       "      <td>11</td>\n",
       "      <td>0.097</td>\n",
       "    </tr>\n",
       "    <tr>\n",
       "      <th>7</th>\n",
       "      <td>5</td>\n",
       "      <td>0.044</td>\n",
       "    </tr>\n",
       "    <tr>\n",
       "      <th>8</th>\n",
       "      <td>5</td>\n",
       "      <td>0.044</td>\n",
       "    </tr>\n",
       "    <tr>\n",
       "      <th>9</th>\n",
       "      <td>5</td>\n",
       "      <td>0.044</td>\n",
       "    </tr>\n",
       "    <tr>\n",
       "      <th>10</th>\n",
       "      <td>1</td>\n",
       "      <td>0.009</td>\n",
       "    </tr>\n",
       "    <tr>\n",
       "      <th>13</th>\n",
       "      <td>1</td>\n",
       "      <td>0.009</td>\n",
       "    </tr>\n",
       "  </tbody>\n",
       "</table>\n",
       "</div>"
      ],
      "text/latex": [
       "\\begin{tabular}{lrr}\n",
       "\\toprule\n",
       "Počet písmen ve slově &  Četnost &  Relativní četnost \\\\\n",
       "\\midrule\n",
       "1  &        5 &              0.044 \\\\\n",
       "2  &       28 &              0.248 \\\\\n",
       "3  &       19 &              0.168 \\\\\n",
       "4  &       21 &              0.186 \\\\\n",
       "5  &       12 &              0.106 \\\\\n",
       "6  &       11 &              0.097 \\\\\n",
       "7  &        5 &              0.044 \\\\\n",
       "8  &        5 &              0.044 \\\\\n",
       "9  &        5 &              0.044 \\\\\n",
       "10 &        1 &              0.009 \\\\\n",
       "13 &        1 &              0.009 \\\\\n",
       "\\bottomrule\n",
       "\\end{tabular}\n"
      ],
      "text/plain": [
       "Počet písmen ve slově  Četnost  Relativní četnost\n",
       "1                            5              0.044\n",
       "2                           28              0.248\n",
       "3                           19              0.168\n",
       "4                           21              0.186\n",
       "5                           12              0.106\n",
       "6                           11              0.097\n",
       "7                            5              0.044\n",
       "8                            5              0.044\n",
       "9                            5              0.044\n",
       "10                           1              0.009\n",
       "13                           1              0.009"
      ]
     },
     "execution_count": 2,
     "metadata": {},
     "output_type": "execute_result"
    }
   ],
   "source": [
    "import pandas as pd\n",
    "from collections import Counter\n",
    "from math import sqrt\n",
    "pd.options.display.float_format = '{:,.3f}'.format\n",
    "translation_table = dict.fromkeys(map(ord, '.,”“’;'), None)\n",
    "f = open('poem', 'r')\n",
    "words = []\n",
    "for line in f:\n",
    "    line = line.translate(translation_table)\n",
    "    words = words + [len(word) for word in line.split()]\n",
    "counter = Counter(words)\n",
    "ser = pd.Series(words)\n",
    "mean = ser.mean()\n",
    "med = ser.median()\n",
    "mod = ser.mode()\n",
    "variance = ser.var()\n",
    "std = sqrt(variance)\n",
    "varcf = std / mean * 100\n",
    "dfws = pd.DataFrame.from_dict(counter, orient='index',).sort_index()\n",
    "dfws.rename_axis({0:'Četnost'}, axis='columns', inplace=True)\n",
    "dfws[\"Relativní četnost\"] = dfws[\"Četnost\"] / sum(dfws[\"Četnost\"])\n",
    "dfws.rename_axis('Počet písmen ve slově',axis=\"columns\", inplace=True)\n",
    "\n",
    "\n"
   ]
  },
  {
   "cell_type": "markdown",
   "metadata": {},
   "source": [
    "# Informace o počtu písmen"
   ]
  },
  {
   "cell_type": "code",
   "execution_count": 3,
   "metadata": {
    "collapsed": false
   },
   "outputs": [
    {
     "data": {
      "text/html": [
       "<div>\n",
       "<table border=\"1\" class=\"dataframe\">\n",
       "  <thead>\n",
       "    <tr style=\"text-align: right;\">\n",
       "      <th></th>\n",
       "      <th>Hodnota</th>\n",
       "    </tr>\n",
       "  </thead>\n",
       "  <tbody>\n",
       "    <tr>\n",
       "      <th>Median</th>\n",
       "      <td>4.000</td>\n",
       "    </tr>\n",
       "    <tr>\n",
       "      <th>Modus</th>\n",
       "      <td>2.000</td>\n",
       "    </tr>\n",
       "    <tr>\n",
       "      <th>Průměr</th>\n",
       "      <td>4.168</td>\n",
       "    </tr>\n",
       "    <tr>\n",
       "      <th>Rozptyl</th>\n",
       "      <td>5.320</td>\n",
       "    </tr>\n",
       "    <tr>\n",
       "      <th>Směrodatná odchylka</th>\n",
       "      <td>2.306</td>\n",
       "    </tr>\n",
       "    <tr>\n",
       "      <th>Variační koeficient</th>\n",
       "      <td>55.335</td>\n",
       "    </tr>\n",
       "  </tbody>\n",
       "</table>\n",
       "</div>"
      ],
      "text/latex": [
       "\\begin{tabular}{lr}\n",
       "\\toprule\n",
       "{} &  Hodnota \\\\\n",
       "\\midrule\n",
       "Median              &    4.000 \\\\\n",
       "Modus               &    2.000 \\\\\n",
       "Průměr              &    4.168 \\\\\n",
       "Rozptyl             &    5.320 \\\\\n",
       "Směrodatná odchylka &    2.306 \\\\\n",
       "Variační koeficient &   55.335 \\\\\n",
       "\\bottomrule\n",
       "\\end{tabular}\n"
      ],
      "text/plain": [
       "                     Hodnota\n",
       "Median                 4.000\n",
       "Modus                  2.000\n",
       "Průměr                 4.168\n",
       "Rozptyl                5.320\n",
       "Směrodatná odchylka    2.306\n",
       "Variační koeficient   55.335"
      ]
     },
     "execution_count": 3,
     "metadata": {},
     "output_type": "execute_result"
    }
   ],
   "source": [
    "from IPython.display import Latex\n",
    "info = pd.DataFrame.from_dict({\n",
    "    \"Median\":med,\n",
    "    \"Modus\":mod[0],\n",
    "    \"Průměr\":mean,\n",
    "    \"Rozptyl\":variance,\n",
    "    \"Směrodatná odchylka\":std,\n",
    "    \"Variační koeficient\": varcf}, orient=\"index\")\n",
    "info.rename_axis({0:'Hodnota'}, axis='columns', inplace=True)\n",
    "info"
   ]
  },
  {
   "cell_type": "markdown",
   "metadata": {},
   "source": [
    "## Výpočty hodnot"
   ]
  },
  {
   "cell_type": "markdown",
   "metadata": {},
   "source": [
    "### Medián"
   ]
  },
  {
   "cell_type": "markdown",
   "metadata": {},
   "source": [
    "**Medián** je prostřední hodnota v souboru. Pokud je počet hodnot v souboru sudý je medián průměrem 2 prostředních hodnot.\n",
    "\n",
    "$$ med(x) = 4 $$"
   ]
  },
  {
   "cell_type": "markdown",
   "metadata": {},
   "source": [
    "### Modus"
   ]
  },
  {
   "cell_type": "markdown",
   "metadata": {},
   "source": [
    "**Modus** je hodnota s největší četností\n",
    "\n",
    "$$ mod(x) = 2 $$"
   ]
  },
  {
   "cell_type": "markdown",
   "metadata": {},
   "source": [
    "### Průměr"
   ]
  },
  {
   "cell_type": "markdown",
   "metadata": {},
   "source": [
    "$$ {\\bar{x}} = \\frac{\\sum_{i=1}^{n}}{n} $$\n",
    "$$ {\\bar{x}} = \\frac{1*5 + 2*28 + 3*19..}{113} = \\frac{471}{113} = 4,168141593 $$"
   ]
  },
  {
   "cell_type": "markdown",
   "metadata": {},
   "source": [
    "### Rozptyl"
   ]
  },
  {
   "cell_type": "markdown",
   "metadata": {},
   "source": [
    "$$ Var(x) = \\frac{5*(1−\\bar{x})^2 + 28*(2−\\bar{x})^2+19*(3 − \\bar{x})^2 +21*(4−\\bar{x})^2+...}{113} = 5,320 $$"
   ]
  },
  {
   "cell_type": "markdown",
   "metadata": {},
   "source": [
    "### Směrodatná odchylka"
   ]
  },
  {
   "cell_type": "markdown",
   "metadata": {},
   "source": [
    "$$ \\sigma = \\sqrt{Var(x)} = \\sqrt{5,320} = 2,206 $$"
   ]
  },
  {
   "cell_type": "markdown",
   "metadata": {},
   "source": [
    "### Variační koeficient"
   ]
  },
  {
   "cell_type": "markdown",
   "metadata": {},
   "source": [
    "$$ v = \\frac{\\sigma}{\\bar{x}} * 100\\% = \\frac{2,206}{4,168} * 100\\% = 55,335 \\% $$"
   ]
  },
  {
   "cell_type": "markdown",
   "metadata": {
    "collapsed": false
   },
   "source": [
    "# Grafické znázornění souboru pomocí koláčového grafu"
   ]
  },
  {
   "cell_type": "code",
   "execution_count": 4,
   "metadata": {
    "collapsed": false
   },
   "outputs": [
    {
     "data": {
      "image/png": "[encoded data removed]",
      "text/plain": [
       "<matplotlib.figure.Figure at 0x7f7a610d2400>"
      ]
     },
     "metadata": {},
     "output_type": "display_data"
    }
   ],
   "source": [
    "import pandas as pd\n",
    "import matplotlib.pyplot as plt\n",
    "from pylab import rcParams\n",
    "import seaborn as sns\n",
    "sns.set(font_scale=1.6)\n",
    "rcParams['figure.figsize'] = 16,10\n",
    "pie = dfws.plot.pie(y=0)\n",
    "plt.axis('equal')\n",
    "\n",
    "plt.legend().set_visible(False)\n",
    "plt.title('Výskyt slov podle počtu písmen')\n",
    "plt.show()"
   ]
  },
  {
   "cell_type": "markdown",
   "metadata": {},
   "source": [
    "## Výpočet úhlů pro koláčový graf"
   ]
  },
  {
   "cell_type": "markdown",
   "metadata": {},
   "source": [
    "$$ x_1 = \\frac{5}{113}*360 = 15,92920354 ^{\\circ} \\dot{=} 15 ^{\\circ} 55'$$\n",
    "\n",
    "$$ x_2 = \\frac{28}{113}*360 = 89,203539823 ^{\\circ} \\dot{=} 89 ^{\\circ} 12' $$\n",
    "\n",
    "$$ x_3 = \\frac{19}{113}*360 = 60,530973451 ^{\\circ} \\dot{=} 60 ^{\\circ} 31' $$\n",
    "\n",
    "$$ x_4 = \\frac{21}{113}*360 = 66,902654867 ^{\\circ} \\dot{=} 66 ^{\\circ} 54' $$\n",
    "\n",
    "$$ x_5 = \\frac{12}{113}*360 = 38,230088496 ^{\\circ} \\dot{=} 38 ^{\\circ} 13' $$\n",
    "\n",
    "$$ x_6 = \\frac{11}{113}*360 = 38,230088496 ^{\\circ} \\dot{=} 35 ^{\\circ} 02' $$\n",
    "\n",
    "$$ x_7 = \\frac{5}{113}*360 = 15,92920354 ^{\\circ} \\dot{=} 15 ^{\\circ} 55'$$\n",
    "\n",
    "$$ x_8 = \\frac{5}{113}*360 = 15,92920354 ^{\\circ} \\dot{=} 15 ^{\\circ} 55'$$\n",
    "\n",
    "$$ x_9 = \\frac{5}{113}*360 = 15,92920354 ^{\\circ} \\dot{=} 15 ^{\\circ} 55'$$\n",
    "\n",
    "$$ x_{10} = \\frac{1}{113}*360 = 3,185840708 ^{\\circ} \\dot{=} 3 ^{\\circ} 11'$$\n",
    "\n",
    "$$ x_{11} = \\frac{1}{113}*360 = 3,185840708 ^{\\circ} \\dot{=} 3 ^{\\circ} 11'$$\n"
   ]
  },
  {
   "cell_type": "markdown",
   "metadata": {},
   "source": [
    "# Grafické znázornění souboru pomocí sloupcového grafu"
   ]
  },
  {
   "cell_type": "code",
   "execution_count": 5,
   "metadata": {
    "collapsed": false
   },
   "outputs": [
    {
     "data": {
      "image/png": "[encoded data removed]",
      "text/plain": [
       "<matplotlib.figure.Figure at 0x7f7a902cf7f0>"
      ]
     },
     "metadata": {},
     "output_type": "display_data"
    }
   ],
   "source": [
    "sns.set(style=\"darkgrid\")\n",
    "sns.plt.figure(figsize=(16,10))\n",
    "sns.set(font_scale=1.6)\n",
    "sns.countplot(x=ser.keys(),data=ser)\n",
    "sns.plt.show()"
   ]
  },
  {
   "cell_type": "markdown",
   "metadata": {},
   "source": [
    "# Závěr"
   ]
  },
  {
   "cell_type": "markdown",
   "metadata": {},
   "source": [
    "Práce mi umožnila přiblížit se k zajímavému světu statistiky. Jakožto žák oboru informačních technologií jsem se mimo jiné naučil statistické problémy řešit na počítači. Toto je výstup mého snažení. Seminární práce mě čekají i na vysoké škole, kde tuto zkušenost ze střední určitě ocením."
   ]
  }
 ],
 "metadata": {
  "kernelspec": {
   "display_name": "Python 3",
   "language": "python",
   "name": "python3"
  },
  "language_info": {
   "codemirror_mode": {
    "name": "ipython",
    "version": 3
   },
   "file_extension": ".py",
   "mimetype": "text/x-python",
   "name": "python",
   "nbconvert_exporter": "python",
   "pygments_lexer": "ipython3",
   "version": "3.6.0"
  }
 },
 "nbformat": 4,
 "nbformat_minor": 2
}
